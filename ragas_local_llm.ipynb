{
  "nbformat": 4,
  "nbformat_minor": 0,
  "metadata": {
    "colab": {
      "provenance": [],
      "gpuType": "T4",
      "authorship_tag": "ABX9TyPDpb9BWJbznzToK68Mwjsh",
      "include_colab_link": true
    },
    "kernelspec": {
      "name": "python3",
      "display_name": "Python 3"
    },
    "language_info": {
      "name": "python"
    },
    "accelerator": "GPU",
    "widgets": {
      "application/vnd.jupyter.widget-state+json": {
        "64f3ae7fbcf742aa97dc37180e875805": {
          "model_module": "@jupyter-widgets/controls",
          "model_name": "HBoxModel",
          "model_module_version": "1.5.0",
          "state": {
            "_dom_classes": [],
            "_model_module": "@jupyter-widgets/controls",
            "_model_module_version": "1.5.0",
            "_model_name": "HBoxModel",
            "_view_count": null,
            "_view_module": "@jupyter-widgets/controls",
            "_view_module_version": "1.5.0",
            "_view_name": "HBoxView",
            "box_style": "",
            "children": [
              "IPY_MODEL_7f7f2ad7d42648b38f588c59842182f1",
              "IPY_MODEL_d07802c5765843238b9be63ff7c838da",
              "IPY_MODEL_b217a2d818504c17bbc503e1bd181549"
            ],
            "layout": "IPY_MODEL_a609c2c7095242e48540e9684952781c"
          }
        },
        "7f7f2ad7d42648b38f588c59842182f1": {
          "model_module": "@jupyter-widgets/controls",
          "model_name": "HTMLModel",
          "model_module_version": "1.5.0",
          "state": {
            "_dom_classes": [],
            "_model_module": "@jupyter-widgets/controls",
            "_model_module_version": "1.5.0",
            "_model_name": "HTMLModel",
            "_view_count": null,
            "_view_module": "@jupyter-widgets/controls",
            "_view_module_version": "1.5.0",
            "_view_name": "HTMLView",
            "description": "",
            "description_tooltip": null,
            "layout": "IPY_MODEL_d75597794e5e42668a4e96bd6bbe6a9b",
            "placeholder": "​",
            "style": "IPY_MODEL_4bfb2fd73669487e9c49ef18169c4159",
            "value": "Loading checkpoint shards: 100%"
          }
        },
        "d07802c5765843238b9be63ff7c838da": {
          "model_module": "@jupyter-widgets/controls",
          "model_name": "FloatProgressModel",
          "model_module_version": "1.5.0",
          "state": {
            "_dom_classes": [],
            "_model_module": "@jupyter-widgets/controls",
            "_model_module_version": "1.5.0",
            "_model_name": "FloatProgressModel",
            "_view_count": null,
            "_view_module": "@jupyter-widgets/controls",
            "_view_module_version": "1.5.0",
            "_view_name": "ProgressView",
            "bar_style": "success",
            "description": "",
            "description_tooltip": null,
            "layout": "IPY_MODEL_7d2b185a538b4d708c726710a08e35d9",
            "max": 3,
            "min": 0,
            "orientation": "horizontal",
            "style": "IPY_MODEL_6edaf96cfefe477ab45ba984242e0e11",
            "value": 3
          }
        },
        "b217a2d818504c17bbc503e1bd181549": {
          "model_module": "@jupyter-widgets/controls",
          "model_name": "HTMLModel",
          "model_module_version": "1.5.0",
          "state": {
            "_dom_classes": [],
            "_model_module": "@jupyter-widgets/controls",
            "_model_module_version": "1.5.0",
            "_model_name": "HTMLModel",
            "_view_count": null,
            "_view_module": "@jupyter-widgets/controls",
            "_view_module_version": "1.5.0",
            "_view_name": "HTMLView",
            "description": "",
            "description_tooltip": null,
            "layout": "IPY_MODEL_1a1047c91fec445f841920691aebfd01",
            "placeholder": "​",
            "style": "IPY_MODEL_c28ffe3a8909483f9703a4cb06b9f4b3",
            "value": " 3/3 [00:38&lt;00:00, 11.30s/it]"
          }
        },
        "a609c2c7095242e48540e9684952781c": {
          "model_module": "@jupyter-widgets/base",
          "model_name": "LayoutModel",
          "model_module_version": "1.2.0",
          "state": {
            "_model_module": "@jupyter-widgets/base",
            "_model_module_version": "1.2.0",
            "_model_name": "LayoutModel",
            "_view_count": null,
            "_view_module": "@jupyter-widgets/base",
            "_view_module_version": "1.2.0",
            "_view_name": "LayoutView",
            "align_content": null,
            "align_items": null,
            "align_self": null,
            "border": null,
            "bottom": null,
            "display": null,
            "flex": null,
            "flex_flow": null,
            "grid_area": null,
            "grid_auto_columns": null,
            "grid_auto_flow": null,
            "grid_auto_rows": null,
            "grid_column": null,
            "grid_gap": null,
            "grid_row": null,
            "grid_template_areas": null,
            "grid_template_columns": null,
            "grid_template_rows": null,
            "height": null,
            "justify_content": null,
            "justify_items": null,
            "left": null,
            "margin": null,
            "max_height": null,
            "max_width": null,
            "min_height": null,
            "min_width": null,
            "object_fit": null,
            "object_position": null,
            "order": null,
            "overflow": null,
            "overflow_x": null,
            "overflow_y": null,
            "padding": null,
            "right": null,
            "top": null,
            "visibility": null,
            "width": null
          }
        },
        "d75597794e5e42668a4e96bd6bbe6a9b": {
          "model_module": "@jupyter-widgets/base",
          "model_name": "LayoutModel",
          "model_module_version": "1.2.0",
          "state": {
            "_model_module": "@jupyter-widgets/base",
            "_model_module_version": "1.2.0",
            "_model_name": "LayoutModel",
            "_view_count": null,
            "_view_module": "@jupyter-widgets/base",
            "_view_module_version": "1.2.0",
            "_view_name": "LayoutView",
            "align_content": null,
            "align_items": null,
            "align_self": null,
            "border": null,
            "bottom": null,
            "display": null,
            "flex": null,
            "flex_flow": null,
            "grid_area": null,
            "grid_auto_columns": null,
            "grid_auto_flow": null,
            "grid_auto_rows": null,
            "grid_column": null,
            "grid_gap": null,
            "grid_row": null,
            "grid_template_areas": null,
            "grid_template_columns": null,
            "grid_template_rows": null,
            "height": null,
            "justify_content": null,
            "justify_items": null,
            "left": null,
            "margin": null,
            "max_height": null,
            "max_width": null,
            "min_height": null,
            "min_width": null,
            "object_fit": null,
            "object_position": null,
            "order": null,
            "overflow": null,
            "overflow_x": null,
            "overflow_y": null,
            "padding": null,
            "right": null,
            "top": null,
            "visibility": null,
            "width": null
          }
        },
        "4bfb2fd73669487e9c49ef18169c4159": {
          "model_module": "@jupyter-widgets/controls",
          "model_name": "DescriptionStyleModel",
          "model_module_version": "1.5.0",
          "state": {
            "_model_module": "@jupyter-widgets/controls",
            "_model_module_version": "1.5.0",
            "_model_name": "DescriptionStyleModel",
            "_view_count": null,
            "_view_module": "@jupyter-widgets/base",
            "_view_module_version": "1.2.0",
            "_view_name": "StyleView",
            "description_width": ""
          }
        },
        "7d2b185a538b4d708c726710a08e35d9": {
          "model_module": "@jupyter-widgets/base",
          "model_name": "LayoutModel",
          "model_module_version": "1.2.0",
          "state": {
            "_model_module": "@jupyter-widgets/base",
            "_model_module_version": "1.2.0",
            "_model_name": "LayoutModel",
            "_view_count": null,
            "_view_module": "@jupyter-widgets/base",
            "_view_module_version": "1.2.0",
            "_view_name": "LayoutView",
            "align_content": null,
            "align_items": null,
            "align_self": null,
            "border": null,
            "bottom": null,
            "display": null,
            "flex": null,
            "flex_flow": null,
            "grid_area": null,
            "grid_auto_columns": null,
            "grid_auto_flow": null,
            "grid_auto_rows": null,
            "grid_column": null,
            "grid_gap": null,
            "grid_row": null,
            "grid_template_areas": null,
            "grid_template_columns": null,
            "grid_template_rows": null,
            "height": null,
            "justify_content": null,
            "justify_items": null,
            "left": null,
            "margin": null,
            "max_height": null,
            "max_width": null,
            "min_height": null,
            "min_width": null,
            "object_fit": null,
            "object_position": null,
            "order": null,
            "overflow": null,
            "overflow_x": null,
            "overflow_y": null,
            "padding": null,
            "right": null,
            "top": null,
            "visibility": null,
            "width": null
          }
        },
        "6edaf96cfefe477ab45ba984242e0e11": {
          "model_module": "@jupyter-widgets/controls",
          "model_name": "ProgressStyleModel",
          "model_module_version": "1.5.0",
          "state": {
            "_model_module": "@jupyter-widgets/controls",
            "_model_module_version": "1.5.0",
            "_model_name": "ProgressStyleModel",
            "_view_count": null,
            "_view_module": "@jupyter-widgets/base",
            "_view_module_version": "1.2.0",
            "_view_name": "StyleView",
            "bar_color": null,
            "description_width": ""
          }
        },
        "1a1047c91fec445f841920691aebfd01": {
          "model_module": "@jupyter-widgets/base",
          "model_name": "LayoutModel",
          "model_module_version": "1.2.0",
          "state": {
            "_model_module": "@jupyter-widgets/base",
            "_model_module_version": "1.2.0",
            "_model_name": "LayoutModel",
            "_view_count": null,
            "_view_module": "@jupyter-widgets/base",
            "_view_module_version": "1.2.0",
            "_view_name": "LayoutView",
            "align_content": null,
            "align_items": null,
            "align_self": null,
            "border": null,
            "bottom": null,
            "display": null,
            "flex": null,
            "flex_flow": null,
            "grid_area": null,
            "grid_auto_columns": null,
            "grid_auto_flow": null,
            "grid_auto_rows": null,
            "grid_column": null,
            "grid_gap": null,
            "grid_row": null,
            "grid_template_areas": null,
            "grid_template_columns": null,
            "grid_template_rows": null,
            "height": null,
            "justify_content": null,
            "justify_items": null,
            "left": null,
            "margin": null,
            "max_height": null,
            "max_width": null,
            "min_height": null,
            "min_width": null,
            "object_fit": null,
            "object_position": null,
            "order": null,
            "overflow": null,
            "overflow_x": null,
            "overflow_y": null,
            "padding": null,
            "right": null,
            "top": null,
            "visibility": null,
            "width": null
          }
        },
        "c28ffe3a8909483f9703a4cb06b9f4b3": {
          "model_module": "@jupyter-widgets/controls",
          "model_name": "DescriptionStyleModel",
          "model_module_version": "1.5.0",
          "state": {
            "_model_module": "@jupyter-widgets/controls",
            "_model_module_version": "1.5.0",
            "_model_name": "DescriptionStyleModel",
            "_view_count": null,
            "_view_module": "@jupyter-widgets/base",
            "_view_module_version": "1.2.0",
            "_view_name": "StyleView",
            "description_width": ""
          }
        },
        "4041c695cbf7431fb41370c15aaebf83": {
          "model_module": "@jupyter-widgets/controls",
          "model_name": "HBoxModel",
          "model_module_version": "1.5.0",
          "state": {
            "_dom_classes": [],
            "_model_module": "@jupyter-widgets/controls",
            "_model_module_version": "1.5.0",
            "_model_name": "HBoxModel",
            "_view_count": null,
            "_view_module": "@jupyter-widgets/controls",
            "_view_module_version": "1.5.0",
            "_view_name": "HBoxView",
            "box_style": "",
            "children": [
              "IPY_MODEL_0c31e126ea014c64a1c3ec21443c6fc7",
              "IPY_MODEL_e5c298b00ed244bfa7fc75d95d58314f",
              "IPY_MODEL_89119f845e824e76a9708f7ef3705b12"
            ],
            "layout": "IPY_MODEL_667e6a88c8c344348e03b4a770da2620"
          }
        },
        "0c31e126ea014c64a1c3ec21443c6fc7": {
          "model_module": "@jupyter-widgets/controls",
          "model_name": "HTMLModel",
          "model_module_version": "1.5.0",
          "state": {
            "_dom_classes": [],
            "_model_module": "@jupyter-widgets/controls",
            "_model_module_version": "1.5.0",
            "_model_name": "HTMLModel",
            "_view_count": null,
            "_view_module": "@jupyter-widgets/controls",
            "_view_module_version": "1.5.0",
            "_view_name": "HTMLView",
            "description": "",
            "description_tooltip": null,
            "layout": "IPY_MODEL_04a2997299b441e482e0842b94fdde4f",
            "placeholder": "​",
            "style": "IPY_MODEL_aee4aeede76649dc9cb438cc8a903998",
            "value": "Evaluating: 100%"
          }
        },
        "e5c298b00ed244bfa7fc75d95d58314f": {
          "model_module": "@jupyter-widgets/controls",
          "model_name": "FloatProgressModel",
          "model_module_version": "1.5.0",
          "state": {
            "_dom_classes": [],
            "_model_module": "@jupyter-widgets/controls",
            "_model_module_version": "1.5.0",
            "_model_name": "FloatProgressModel",
            "_view_count": null,
            "_view_module": "@jupyter-widgets/controls",
            "_view_module_version": "1.5.0",
            "_view_name": "ProgressView",
            "bar_style": "success",
            "description": "",
            "description_tooltip": null,
            "layout": "IPY_MODEL_5d83a009d2c64c14a7ca80f1a83fd7fe",
            "max": 8,
            "min": 0,
            "orientation": "horizontal",
            "style": "IPY_MODEL_6e109d4292624bff9f2d187b33dfbac8",
            "value": 8
          }
        },
        "89119f845e824e76a9708f7ef3705b12": {
          "model_module": "@jupyter-widgets/controls",
          "model_name": "HTMLModel",
          "model_module_version": "1.5.0",
          "state": {
            "_dom_classes": [],
            "_model_module": "@jupyter-widgets/controls",
            "_model_module_version": "1.5.0",
            "_model_name": "HTMLModel",
            "_view_count": null,
            "_view_module": "@jupyter-widgets/controls",
            "_view_module_version": "1.5.0",
            "_view_name": "HTMLView",
            "description": "",
            "description_tooltip": null,
            "layout": "IPY_MODEL_1a2586286f5a45a18d9b1767844871a8",
            "placeholder": "​",
            "style": "IPY_MODEL_3afc19bd77114dc8b67d1ae422b79fa5",
            "value": " 8/8 [02:24&lt;00:00,  9.40s/it]"
          }
        },
        "667e6a88c8c344348e03b4a770da2620": {
          "model_module": "@jupyter-widgets/base",
          "model_name": "LayoutModel",
          "model_module_version": "1.2.0",
          "state": {
            "_model_module": "@jupyter-widgets/base",
            "_model_module_version": "1.2.0",
            "_model_name": "LayoutModel",
            "_view_count": null,
            "_view_module": "@jupyter-widgets/base",
            "_view_module_version": "1.2.0",
            "_view_name": "LayoutView",
            "align_content": null,
            "align_items": null,
            "align_self": null,
            "border": null,
            "bottom": null,
            "display": null,
            "flex": null,
            "flex_flow": null,
            "grid_area": null,
            "grid_auto_columns": null,
            "grid_auto_flow": null,
            "grid_auto_rows": null,
            "grid_column": null,
            "grid_gap": null,
            "grid_row": null,
            "grid_template_areas": null,
            "grid_template_columns": null,
            "grid_template_rows": null,
            "height": null,
            "justify_content": null,
            "justify_items": null,
            "left": null,
            "margin": null,
            "max_height": null,
            "max_width": null,
            "min_height": null,
            "min_width": null,
            "object_fit": null,
            "object_position": null,
            "order": null,
            "overflow": null,
            "overflow_x": null,
            "overflow_y": null,
            "padding": null,
            "right": null,
            "top": null,
            "visibility": null,
            "width": null
          }
        },
        "04a2997299b441e482e0842b94fdde4f": {
          "model_module": "@jupyter-widgets/base",
          "model_name": "LayoutModel",
          "model_module_version": "1.2.0",
          "state": {
            "_model_module": "@jupyter-widgets/base",
            "_model_module_version": "1.2.0",
            "_model_name": "LayoutModel",
            "_view_count": null,
            "_view_module": "@jupyter-widgets/base",
            "_view_module_version": "1.2.0",
            "_view_name": "LayoutView",
            "align_content": null,
            "align_items": null,
            "align_self": null,
            "border": null,
            "bottom": null,
            "display": null,
            "flex": null,
            "flex_flow": null,
            "grid_area": null,
            "grid_auto_columns": null,
            "grid_auto_flow": null,
            "grid_auto_rows": null,
            "grid_column": null,
            "grid_gap": null,
            "grid_row": null,
            "grid_template_areas": null,
            "grid_template_columns": null,
            "grid_template_rows": null,
            "height": null,
            "justify_content": null,
            "justify_items": null,
            "left": null,
            "margin": null,
            "max_height": null,
            "max_width": null,
            "min_height": null,
            "min_width": null,
            "object_fit": null,
            "object_position": null,
            "order": null,
            "overflow": null,
            "overflow_x": null,
            "overflow_y": null,
            "padding": null,
            "right": null,
            "top": null,
            "visibility": null,
            "width": null
          }
        },
        "aee4aeede76649dc9cb438cc8a903998": {
          "model_module": "@jupyter-widgets/controls",
          "model_name": "DescriptionStyleModel",
          "model_module_version": "1.5.0",
          "state": {
            "_model_module": "@jupyter-widgets/controls",
            "_model_module_version": "1.5.0",
            "_model_name": "DescriptionStyleModel",
            "_view_count": null,
            "_view_module": "@jupyter-widgets/base",
            "_view_module_version": "1.2.0",
            "_view_name": "StyleView",
            "description_width": ""
          }
        },
        "5d83a009d2c64c14a7ca80f1a83fd7fe": {
          "model_module": "@jupyter-widgets/base",
          "model_name": "LayoutModel",
          "model_module_version": "1.2.0",
          "state": {
            "_model_module": "@jupyter-widgets/base",
            "_model_module_version": "1.2.0",
            "_model_name": "LayoutModel",
            "_view_count": null,
            "_view_module": "@jupyter-widgets/base",
            "_view_module_version": "1.2.0",
            "_view_name": "LayoutView",
            "align_content": null,
            "align_items": null,
            "align_self": null,
            "border": null,
            "bottom": null,
            "display": null,
            "flex": null,
            "flex_flow": null,
            "grid_area": null,
            "grid_auto_columns": null,
            "grid_auto_flow": null,
            "grid_auto_rows": null,
            "grid_column": null,
            "grid_gap": null,
            "grid_row": null,
            "grid_template_areas": null,
            "grid_template_columns": null,
            "grid_template_rows": null,
            "height": null,
            "justify_content": null,
            "justify_items": null,
            "left": null,
            "margin": null,
            "max_height": null,
            "max_width": null,
            "min_height": null,
            "min_width": null,
            "object_fit": null,
            "object_position": null,
            "order": null,
            "overflow": null,
            "overflow_x": null,
            "overflow_y": null,
            "padding": null,
            "right": null,
            "top": null,
            "visibility": null,
            "width": null
          }
        },
        "6e109d4292624bff9f2d187b33dfbac8": {
          "model_module": "@jupyter-widgets/controls",
          "model_name": "ProgressStyleModel",
          "model_module_version": "1.5.0",
          "state": {
            "_model_module": "@jupyter-widgets/controls",
            "_model_module_version": "1.5.0",
            "_model_name": "ProgressStyleModel",
            "_view_count": null,
            "_view_module": "@jupyter-widgets/base",
            "_view_module_version": "1.2.0",
            "_view_name": "StyleView",
            "bar_color": null,
            "description_width": ""
          }
        },
        "1a2586286f5a45a18d9b1767844871a8": {
          "model_module": "@jupyter-widgets/base",
          "model_name": "LayoutModel",
          "model_module_version": "1.2.0",
          "state": {
            "_model_module": "@jupyter-widgets/base",
            "_model_module_version": "1.2.0",
            "_model_name": "LayoutModel",
            "_view_count": null,
            "_view_module": "@jupyter-widgets/base",
            "_view_module_version": "1.2.0",
            "_view_name": "LayoutView",
            "align_content": null,
            "align_items": null,
            "align_self": null,
            "border": null,
            "bottom": null,
            "display": null,
            "flex": null,
            "flex_flow": null,
            "grid_area": null,
            "grid_auto_columns": null,
            "grid_auto_flow": null,
            "grid_auto_rows": null,
            "grid_column": null,
            "grid_gap": null,
            "grid_row": null,
            "grid_template_areas": null,
            "grid_template_columns": null,
            "grid_template_rows": null,
            "height": null,
            "justify_content": null,
            "justify_items": null,
            "left": null,
            "margin": null,
            "max_height": null,
            "max_width": null,
            "min_height": null,
            "min_width": null,
            "object_fit": null,
            "object_position": null,
            "order": null,
            "overflow": null,
            "overflow_x": null,
            "overflow_y": null,
            "padding": null,
            "right": null,
            "top": null,
            "visibility": null,
            "width": null
          }
        },
        "3afc19bd77114dc8b67d1ae422b79fa5": {
          "model_module": "@jupyter-widgets/controls",
          "model_name": "DescriptionStyleModel",
          "model_module_version": "1.5.0",
          "state": {
            "_model_module": "@jupyter-widgets/controls",
            "_model_module_version": "1.5.0",
            "_model_name": "DescriptionStyleModel",
            "_view_count": null,
            "_view_module": "@jupyter-widgets/base",
            "_view_module_version": "1.2.0",
            "_view_name": "StyleView",
            "description_width": ""
          }
        }
      }
    }
  },
  "cells": [
    {
      "cell_type": "markdown",
      "metadata": {
        "id": "view-in-github",
        "colab_type": "text"
      },
      "source": [
        "<a href=\"https://colab.research.google.com/github/Microflow-IO/modsecurity-for-anylog/blob/main/ragas_local_llm.ipynb\" target=\"_parent\"><img src=\"https://colab.research.google.com/assets/colab-badge.svg\" alt=\"Open In Colab\"/></a>"
      ]
    },
    {
      "cell_type": "code",
      "execution_count": 1,
      "metadata": {
        "colab": {
          "base_uri": "https://localhost:8080/"
        },
        "id": "IA89VQE9DVBJ",
        "outputId": "8c238465-adaa-445d-ac2c-89bf3ff36c4a"
      },
      "outputs": [
        {
          "output_type": "stream",
          "name": "stdout",
          "text": [
            "Cloning into 'Qwen2-7B-Instruct-GPTQ-Int8'...\n",
            "remote: Enumerating objects: 42, done.\u001b[K\n",
            "remote: Counting objects: 100% (39/39), done.\u001b[K\n",
            "remote: Compressing objects: 100% (39/39), done.\u001b[K\n",
            "remote: Total 42 (delta 16), reused 0 (delta 0), pack-reused 3 (from 1)\u001b[K\n",
            "Unpacking objects: 100% (42/42), 3.61 MiB | 3.19 MiB/s, done.\n",
            "Filtering content: 100% (3/3), 8.25 GiB | 45.94 MiB/s, done.\n"
          ]
        }
      ],
      "source": [
        "!git clone https://huggingface.co/Qwen/Qwen2-7B-Instruct-GPTQ-Int8"
      ]
    },
    {
      "cell_type": "code",
      "source": [
        "!git clone https://huggingface.co/BAAI/bge-large-zh-v1.5"
      ],
      "metadata": {
        "colab": {
          "base_uri": "https://localhost:8080/"
        },
        "id": "zUBpUZ12DaHE",
        "outputId": "ac3ec23a-5c91-4a3f-dc29-e729391fa888"
      },
      "execution_count": 2,
      "outputs": [
        {
          "output_type": "stream",
          "name": "stdout",
          "text": [
            "Cloning into 'bge-large-zh-v1.5'...\n",
            "remote: Enumerating objects: 55, done.\u001b[K\n",
            "remote: Total 55 (delta 0), reused 0 (delta 0), pack-reused 55 (from 1)\u001b[K\n",
            "Unpacking objects: 100% (55/55), 176.26 KiB | 2.55 MiB/s, done.\n"
          ]
        }
      ]
    },
    {
      "cell_type": "code",
      "source": [
        "!du -sh *"
      ],
      "metadata": {
        "colab": {
          "base_uri": "https://localhost:8080/"
        },
        "id": "syFbH75uHrIQ",
        "outputId": "f2c9df3e-2e9d-4037-d5a2-3e2e01180641"
      },
      "execution_count": 3,
      "outputs": [
        {
          "output_type": "stream",
          "name": "stdout",
          "text": [
            "2.5G\tbge-large-zh-v1.5\n",
            "17G\tQwen2-7B-Instruct-GPTQ-Int8\n",
            "55M\tsample_data\n"
          ]
        }
      ]
    },
    {
      "cell_type": "code",
      "source": [
        "!pip install ragas==0.1.15 langchain==0.2.15 langchain-community==0.2.13 langchain-core==0.2.35 langchain-openai==0.1.23 langchain-text-splitters==0.2.2 torch==2.1.2 sentence-transformers==3.0.1 taming-transformers-rom1504==0.0.6 transformers==4.49 transformers-stream-generator==0.0.4 FlagEmbedding==1.2.11"
      ],
      "metadata": {
        "id": "PI7ZTPsVILFX"
      },
      "execution_count": null,
      "outputs": []
    },
    {
      "cell_type": "code",
      "source": [
        "!pip install optimum gptqmodel"
      ],
      "metadata": {
        "id": "a2pFAR9cbi4a"
      },
      "execution_count": null,
      "outputs": []
    },
    {
      "cell_type": "code",
      "source": [
        "!ps -ef | grep python3"
      ],
      "metadata": {
        "id": "zQGMk3GLiBMo"
      },
      "execution_count": null,
      "outputs": []
    },
    {
      "cell_type": "code",
      "source": [
        "from typing import List, Optional, Any\n",
        "from datasets import Dataset\n",
        "from ragas.metrics import faithfulness, context_recall, context_precision, answer_relevancy\n",
        "from ragas import evaluate\n",
        "from ragas.llms import LangchainLLMWrapper\n",
        "from ragas.embeddings import BaseRagasEmbeddings\n",
        "from ragas.run_config import RunConfig\n",
        "from FlagEmbedding import FlagModel\n",
        "from transformers import AutoModelForCausalLM, AutoTokenizer, GenerationConfig\n",
        "from langchain.llms.base import LLM\n",
        "from langchain.callbacks.manager import CallbackManagerForLLMRun"
      ],
      "metadata": {
        "id": "AKoVESWDI_AV"
      },
      "execution_count": 4,
      "outputs": []
    },
    {
      "cell_type": "code",
      "source": [
        "class MyLLM(LLM):\n",
        "    # Support Qwen2\n",
        "    tokenizer: AutoTokenizer = None\n",
        "    model: AutoModelForCausalLM = None\n",
        "\n",
        "    def __init__(self, mode_name_or_path: str):\n",
        "        super().__init__()\n",
        "        self.tokenizer = AutoTokenizer.from_pretrained(mode_name_or_path)\n",
        "        self.model = AutoModelForCausalLM.from_pretrained(mode_name_or_path, device_map=\"auto\")\n",
        "        self.model.generation_config = GenerationConfig.from_pretrained(mode_name_or_path)\n",
        "\n",
        "    def _call(\n",
        "            self,\n",
        "            prompt: str,\n",
        "            stop: Optional[List[str]] = None,\n",
        "            run_manager: Optional[CallbackManagerForLLMRun] = None,\n",
        "            **kwargs: Any,\n",
        "    ) -> str:\n",
        "        messages = [{\"role\": \"user\", \"content\": prompt}]\n",
        "        input_ids = self.tokenizer.apply_chat_template(messages, tokenize=False, add_generation_prompt=True)\n",
        "        model_inputs = self.tokenizer([input_ids], return_tensors=\"pt\").to('cuda')\n",
        "        generated_ids = self.model.generate(model_inputs.input_ids, max_new_tokens=4096)\n",
        "        generated_ids = [\n",
        "            output_ids[len(input_ids):] for input_ids, output_ids in zip(model_inputs.input_ids, generated_ids)\n",
        "        ]\n",
        "        response = self.tokenizer.batch_decode(generated_ids, skip_special_tokens=True)[0]\n",
        "        return response\n",
        "\n",
        "    @property\n",
        "    def _llm_type(self):\n",
        "        return \"qwen2\""
      ],
      "metadata": {
        "id": "uPD5VsyRJs4o"
      },
      "execution_count": 5,
      "outputs": []
    },
    {
      "cell_type": "code",
      "source": [
        "class MyEmbedding(BaseRagasEmbeddings):\n",
        "\n",
        "    def __init__(self, path, run_config, max_length=512, batch_size=256):\n",
        "        self.model = FlagModel(path, query_instruction_for_retrieval=\"为这个句子生成表示以用于检索相关文章：\")\n",
        "        self.max_length = max_length\n",
        "        self.batch_size = batch_size\n",
        "        self.run_config = run_config\n",
        "\n",
        "    def embed_documents(self, texts: List[str]) -> List[List[float]]:\n",
        "        return self.model.encode_corpus(texts, self.batch_size, self.max_length).tolist()\n",
        "\n",
        "    def embed_query(self, text: str) -> List[float]:\n",
        "        return self.model.encode_queries(text, self.batch_size, self.max_length).tolist()"
      ],
      "metadata": {
        "id": "LUzRK-ZpHuF-"
      },
      "execution_count": 6,
      "outputs": []
    },
    {
      "cell_type": "code",
      "source": [
        "data_samples = {\n",
        "    'question': [\n",
        "        'When was the first Super Bowl?',\n",
        "        'Who won the most Super Bowls?'\n",
        "    ],\n",
        "    'answer': [\n",
        "        'The first Super Bowl was held on Jan 15, 1967',\n",
        "        'The most Super Bowls have been won by The New England Patriots'\n",
        "    ],\n",
        "    'contexts': [\n",
        "        [\n",
        "            'The first AFL–NFL World Championship Game was an American football game played on January 15, 1967, at the Los Angeles Memorial Coliseum in Los Angeles, California.'],\n",
        "        [\n",
        "            'The New England Patriots have won the Super Bowl a record six times, surpassing the Pittsburgh Steelers who have won it six times as well.']\n",
        "    ],\n",
        "    'ground_truth': [\n",
        "        'The first Super Bowl was held on January 15, 1967',\n",
        "        'The New England Patriots have won the Super Bowl a record six times'\n",
        "    ]\n",
        "}\n",
        "\n",
        "dataset = Dataset.from_dict(data_samples)\n",
        "print(dataset)"
      ],
      "metadata": {
        "colab": {
          "base_uri": "https://localhost:8080/"
        },
        "id": "1OTF5vOIRzmg",
        "outputId": "af4bde0c-a662-49b6-b99f-7a00893b3cad"
      },
      "execution_count": 7,
      "outputs": [
        {
          "output_type": "stream",
          "name": "stdout",
          "text": [
            "Dataset({\n",
            "    features: ['question', 'answer', 'contexts', 'ground_truth'],\n",
            "    num_rows: 2\n",
            "})\n"
          ]
        }
      ]
    },
    {
      "cell_type": "code",
      "source": [
        "llm_path = \"/content/Qwen2-7B-Instruct-GPTQ-Int8\"\n",
        "emb_path = \"/content/bge-large-zh-v1.5\"\n",
        "\n",
        "run_config = RunConfig(timeout=800, max_wait=800)\n",
        "\n",
        "embedding_model = MyEmbedding(emb_path, run_config)\n",
        "my_llm = LangchainLLMWrapper(MyLLM(llm_path), run_config)\n",
        "\n",
        "result = evaluate(\n",
        "    dataset,\n",
        "    metrics=[context_recall, context_precision, answer_relevancy, faithfulness],\n",
        "    llm=my_llm,\n",
        "    embeddings=embedding_model,\n",
        "    run_config=run_config\n",
        ")\n",
        "\n",
        "df = result.to_pandas()\n",
        "print(df.head())\n",
        "df.to_csv(\"result.csv\", index=False)"
      ],
      "metadata": {
        "colab": {
          "base_uri": "https://localhost:8080/",
          "height": 762,
          "referenced_widgets": [
            "64f3ae7fbcf742aa97dc37180e875805",
            "7f7f2ad7d42648b38f588c59842182f1",
            "d07802c5765843238b9be63ff7c838da",
            "b217a2d818504c17bbc503e1bd181549",
            "a609c2c7095242e48540e9684952781c",
            "d75597794e5e42668a4e96bd6bbe6a9b",
            "4bfb2fd73669487e9c49ef18169c4159",
            "7d2b185a538b4d708c726710a08e35d9",
            "6edaf96cfefe477ab45ba984242e0e11",
            "1a1047c91fec445f841920691aebfd01",
            "c28ffe3a8909483f9703a4cb06b9f4b3",
            "4041c695cbf7431fb41370c15aaebf83",
            "0c31e126ea014c64a1c3ec21443c6fc7",
            "e5c298b00ed244bfa7fc75d95d58314f",
            "89119f845e824e76a9708f7ef3705b12",
            "667e6a88c8c344348e03b4a770da2620",
            "04a2997299b441e482e0842b94fdde4f",
            "aee4aeede76649dc9cb438cc8a903998",
            "5d83a009d2c64c14a7ca80f1a83fd7fe",
            "6e109d4292624bff9f2d187b33dfbac8",
            "1a2586286f5a45a18d9b1767844871a8",
            "3afc19bd77114dc8b67d1ae422b79fa5"
          ]
        },
        "id": "DpO6RhivZm1g",
        "outputId": "5401ba5d-0053-4af8-bc63-fe863738a8a2"
      },
      "execution_count": 8,
      "outputs": [
        {
          "output_type": "stream",
          "name": "stdout",
          "text": [
            "\n",
            "\u001b[32mINFO\u001b[0m  ENV: Auto setting PYTORCH_CUDA_ALLOC_CONF='expandable_segments:True' for memory saving.      \n",
            "\u001b[32mINFO\u001b[0m  ENV: Auto setting CUDA_DEVICE_ORDER=PCI_BUS_ID for correctness.                              \n"
          ]
        },
        {
          "output_type": "stream",
          "name": "stderr",
          "text": [
            "Sliding Window Attention is enabled but not implemented for `sdpa`; unexpected results may be encountered.\n"
          ]
        },
        {
          "output_type": "stream",
          "name": "stdout",
          "text": [
            "\r\u001b[32mINFO\u001b[0m   Kernel: Auto-selection: adding candidate `TritonV2QuantLinear`                              \n"
          ]
        },
        {
          "output_type": "stream",
          "name": "stderr",
          "text": [
            "`loss_type=None` was set in the config but it is unrecognised.Using the default loss: `ForCausalLMLoss`.\n"
          ]
        },
        {
          "output_type": "display_data",
          "data": {
            "text/plain": [
              "Loading checkpoint shards:   0%|          | 0/3 [00:00<?, ?it/s]"
            ],
            "application/vnd.jupyter.widget-view+json": {
              "version_major": 2,
              "version_minor": 0,
              "model_id": "64f3ae7fbcf742aa97dc37180e875805"
            }
          },
          "metadata": {}
        },
        {
          "output_type": "stream",
          "name": "stderr",
          "text": [
            "Some weights of the model checkpoint at /content/Qwen2-7B-Instruct-GPTQ-Int8 were not used when initializing Qwen2ForCausalLM: {'model.layers.8.mlp.down_proj.bias', 'model.layers.15.mlp.up_proj.bias', 'model.layers.25.mlp.gate_proj.bias', 'model.layers.27.mlp.down_proj.bias', 'model.layers.3.mlp.up_proj.bias', 'model.layers.0.self_attn.o_proj.bias', 'model.layers.17.self_attn.o_proj.bias', 'model.layers.12.mlp.up_proj.bias', 'model.layers.11.mlp.gate_proj.bias', 'model.layers.21.mlp.down_proj.bias', 'model.layers.25.mlp.down_proj.bias', 'model.layers.27.mlp.gate_proj.bias', 'model.layers.4.mlp.gate_proj.bias', 'model.layers.14.mlp.down_proj.bias', 'model.layers.8.mlp.up_proj.bias', 'model.layers.11.mlp.down_proj.bias', 'model.layers.25.self_attn.o_proj.bias', 'model.layers.14.mlp.gate_proj.bias', 'model.layers.0.mlp.gate_proj.bias', 'model.layers.2.mlp.up_proj.bias', 'model.layers.15.mlp.down_proj.bias', 'model.layers.11.mlp.up_proj.bias', 'model.layers.24.self_attn.o_proj.bias', 'model.layers.27.self_attn.o_proj.bias', 'model.layers.22.mlp.up_proj.bias', 'model.layers.10.mlp.gate_proj.bias', 'model.layers.3.self_attn.o_proj.bias', 'model.layers.16.mlp.gate_proj.bias', 'model.layers.20.mlp.up_proj.bias', 'model.layers.19.self_attn.o_proj.bias', 'model.layers.21.mlp.gate_proj.bias', 'model.layers.13.self_attn.o_proj.bias', 'model.layers.2.mlp.down_proj.bias', 'model.layers.26.mlp.up_proj.bias', 'model.layers.25.mlp.up_proj.bias', 'model.layers.26.mlp.down_proj.bias', 'model.layers.23.mlp.down_proj.bias', 'model.layers.9.self_attn.o_proj.bias', 'model.layers.1.mlp.gate_proj.bias', 'model.layers.13.mlp.gate_proj.bias', 'model.layers.12.mlp.down_proj.bias', 'model.layers.17.mlp.down_proj.bias', 'model.layers.23.mlp.up_proj.bias', 'model.layers.0.mlp.up_proj.bias', 'model.layers.6.self_attn.o_proj.bias', 'model.layers.7.mlp.up_proj.bias', 'model.layers.19.mlp.down_proj.bias', 'model.layers.27.mlp.up_proj.bias', 'model.layers.1.self_attn.o_proj.bias', 'model.layers.26.mlp.gate_proj.bias', 'model.layers.5.mlp.gate_proj.bias', 'model.layers.1.mlp.up_proj.bias', 'model.layers.11.self_attn.o_proj.bias', 'model.layers.24.mlp.down_proj.bias', 'model.layers.17.mlp.up_proj.bias', 'model.layers.21.mlp.up_proj.bias', 'model.layers.10.self_attn.o_proj.bias', 'model.layers.16.mlp.up_proj.bias', 'model.layers.6.mlp.down_proj.bias', 'model.layers.23.self_attn.o_proj.bias', 'model.layers.4.mlp.down_proj.bias', 'model.layers.8.mlp.gate_proj.bias', 'model.layers.24.mlp.up_proj.bias', 'model.layers.5.mlp.up_proj.bias', 'model.layers.2.mlp.gate_proj.bias', 'model.layers.18.mlp.down_proj.bias', 'model.layers.21.self_attn.o_proj.bias', 'model.layers.10.mlp.down_proj.bias', 'model.layers.7.mlp.gate_proj.bias', 'model.layers.2.self_attn.o_proj.bias', 'model.layers.8.self_attn.o_proj.bias', 'model.layers.19.mlp.gate_proj.bias', 'model.layers.20.self_attn.o_proj.bias', 'model.layers.14.mlp.up_proj.bias', 'model.layers.26.self_attn.o_proj.bias', 'model.layers.18.mlp.gate_proj.bias', 'model.layers.22.self_attn.o_proj.bias', 'model.layers.13.mlp.up_proj.bias', 'model.layers.5.mlp.down_proj.bias', 'model.layers.12.mlp.gate_proj.bias', 'model.layers.18.mlp.up_proj.bias', 'model.layers.16.self_attn.o_proj.bias', 'model.layers.22.mlp.gate_proj.bias', 'model.layers.15.mlp.gate_proj.bias', 'model.layers.20.mlp.down_proj.bias', 'model.layers.3.mlp.down_proj.bias', 'model.layers.5.self_attn.o_proj.bias', 'model.layers.17.mlp.gate_proj.bias', 'model.layers.6.mlp.gate_proj.bias', 'model.layers.23.mlp.gate_proj.bias', 'model.layers.6.mlp.up_proj.bias', 'model.layers.1.mlp.down_proj.bias', 'model.layers.4.self_attn.o_proj.bias', 'model.layers.13.mlp.down_proj.bias', 'model.layers.9.mlp.gate_proj.bias', 'model.layers.22.mlp.down_proj.bias', 'model.layers.10.mlp.up_proj.bias', 'model.layers.18.self_attn.o_proj.bias', 'model.layers.12.self_attn.o_proj.bias', 'model.layers.9.mlp.down_proj.bias', 'model.layers.4.mlp.up_proj.bias', 'model.layers.15.self_attn.o_proj.bias', 'model.layers.19.mlp.up_proj.bias', 'model.layers.24.mlp.gate_proj.bias', 'model.layers.16.mlp.down_proj.bias', 'model.layers.20.mlp.gate_proj.bias', 'model.layers.0.mlp.down_proj.bias', 'model.layers.14.self_attn.o_proj.bias', 'model.layers.3.mlp.gate_proj.bias', 'model.layers.7.mlp.down_proj.bias', 'model.layers.9.mlp.up_proj.bias', 'model.layers.7.self_attn.o_proj.bias'}\n",
            "- This IS expected if you are initializing Qwen2ForCausalLM from the checkpoint of a model trained on another task or with another architecture (e.g. initializing a BertForSequenceClassification model from a BertForPreTraining model).\n",
            "- This IS NOT expected if you are initializing Qwen2ForCausalLM from the checkpoint of a model that you expect to be exactly identical (initializing a BertForSequenceClassification model from a BertForSequenceClassification model).\n"
          ]
        },
        {
          "output_type": "stream",
          "name": "stdout",
          "text": [
            "\u001b[32mINFO\u001b[0m  Format: Converting `checkpoint_format` from `gptq` to internal `gptq_v2`.                    \n",
            "\u001b[32mINFO\u001b[0m  Format: Converting GPTQ v1 to v2                                                             \n",
            "\u001b[32mINFO\u001b[0m  Format: Conversion complete: 0.05669260025024414s                                            \n",
            "\u001b[32mINFO\u001b[0m  Optimize: `TritonV2QuantLinear` compilation triggered.                                       \n"
          ]
        },
        {
          "output_type": "display_data",
          "data": {
            "text/plain": [
              "Evaluating:   0%|          | 0/8 [00:00<?, ?it/s]"
            ],
            "application/vnd.jupyter.widget-view+json": {
              "version_major": 2,
              "version_minor": 0,
              "model_id": "4041c695cbf7431fb41370c15aaebf83"
            }
          },
          "metadata": {}
        },
        {
          "output_type": "stream",
          "name": "stderr",
          "text": [
            "The attention mask is not set and cannot be inferred from input because pad token is same as eos token. As a consequence, you may observe unexpected behavior. Please pass your input's `attention_mask` to obtain reliable results.\n",
            "The attention mask is not set and cannot be inferred from input because pad token is same as eos token. As a consequence, you may observe unexpected behavior. Please pass your input's `attention_mask` to obtain reliable results.\n",
            "The attention mask is not set and cannot be inferred from input because pad token is same as eos token. As a consequence, you may observe unexpected behavior. Please pass your input's `attention_mask` to obtain reliable results.\n",
            "The attention mask is not set and cannot be inferred from input because pad token is same as eos token. As a consequence, you may observe unexpected behavior. Please pass your input's `attention_mask` to obtain reliable results.\n"
          ]
        },
        {
          "output_type": "stream",
          "name": "stdout",
          "text": [
            "                         question  \\\n",
            "0  When was the first Super Bowl?   \n",
            "1   Who won the most Super Bowls?   \n",
            "\n",
            "                                              answer  \\\n",
            "0      The first Super Bowl was held on Jan 15, 1967   \n",
            "1  The most Super Bowls have been won by The New ...   \n",
            "\n",
            "                                            contexts  \\\n",
            "0  [The first AFL–NFL World Championship Game was...   \n",
            "1  [The New England Patriots have won the Super B...   \n",
            "\n",
            "                                        ground_truth  context_recall  \\\n",
            "0  The first Super Bowl was held on January 15, 1967             1.0   \n",
            "1  The New England Patriots have won the Super Bo...             1.0   \n",
            "\n",
            "   context_precision  answer_relevancy  faithfulness  \n",
            "0                1.0          0.836584           1.0  \n",
            "1                1.0          0.000000           1.0  \n"
          ]
        }
      ]
    }
  ]
}